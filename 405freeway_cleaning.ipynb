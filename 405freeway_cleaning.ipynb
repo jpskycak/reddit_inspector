{
 "cells": [
  {
   "cell_type": "code",
   "execution_count": 1,
   "metadata": {
    "collapsed": true
   },
   "outputs": [],
   "source": [
    "import pandas as pd\n",
    "import datetime\n",
    "import matplotlib.pyplot as plt\n",
    "\n",
    "def target_count(s):\n",
    "    targets = [\"i\",\"i've\",\"mine\",\"me\",\"my\",\"we\",\"we've\",\"our\",\"us\"]\n",
    "    return sum([word in targets for word in s.lower().split()])"
   ]
  },
  {
   "cell_type": "code",
   "execution_count": 2,
   "metadata": {
    "collapsed": false
   },
   "outputs": [],
   "source": [
    "strdig = ['01','02','03','04','05','06','07','08','09','10','11','12']\n",
    "sheetnames = ['data/405freeway_2015'+x for x in strdig[4:]] + ['data/405freeway_2016'+x for x in strdig] + ['data/405freeway_2017'+x for x in strdig[:4]]\n",
    "sheetnames = [x+'.xlsx' for x in sheetnames]"
   ]
  },
  {
   "cell_type": "code",
   "execution_count": 3,
   "metadata": {
    "collapsed": false
   },
   "outputs": [],
   "source": [
    "frames = []\n",
    "for name in sheetnames:\n",
    "    frame = pd.read_excel(name)\n",
    "    frame['sheetname'] = name\n",
    "    frames.append(frame)"
   ]
  },
  {
   "cell_type": "code",
   "execution_count": 4,
   "metadata": {
    "collapsed": true
   },
   "outputs": [],
   "source": [
    "df = pd.concat(frames)"
   ]
  },
  {
   "cell_type": "code",
   "execution_count": 5,
   "metadata": {
    "collapsed": false
   },
   "outputs": [],
   "source": [
    "df['url'] = df.apply(lambda row: 'https://www.reddit.com/r/'+row['subreddit']+'/comments/'+row['link_id'].split('_')[-1], axis=1)\n",
    "df['PST'] = df['created_utc'].apply(lambda x: datetime.datetime.fromtimestamp(x) - datetime.timedelta(hours=6))\n",
    "df['parent_id'] = df['parent_id'].apply(lambda x: x.split('_')[-1])\n",
    "df['target_count'] = df['body'].apply(target_count)"
   ]
  },
  {
   "cell_type": "code",
   "execution_count": 6,
   "metadata": {
    "collapsed": false
   },
   "outputs": [
    {
     "name": "stderr",
     "output_type": "stream",
     "text": [
      "/Users/jskycak/anaconda/lib/python2.7/site-packages/ipykernel/__main__.py:1: FutureWarning: sort(columns=....) is deprecated, use sort_values(by=.....)\n",
      "  if __name__ == '__main__':\n"
     ]
    }
   ],
   "source": [
    "df = df[['PST','target_count','subreddit','body','url','id','parent_id']].set_index('PST').sort('target_count',ascending=False)"
   ]
  },
  {
   "cell_type": "code",
   "execution_count": 7,
   "metadata": {
    "collapsed": false
   },
   "outputs": [
    {
     "data": {
      "image/png": "[encoded data removed]",
      "text/plain": [
       "<matplotlib.figure.Figure at 0x10c01e110>"
      ]
     },
     "metadata": {},
     "output_type": "display_data"
    }
   ],
   "source": [
    "df.target_count.hist(cumulative=True,bins=100)\n",
    "plt.show()"
   ]
  },
  {
   "cell_type": "code",
   "execution_count": 8,
   "metadata": {
    "collapsed": false
   },
   "outputs": [
    {
     "data": {
      "text/plain": [
       "305"
      ]
     },
     "execution_count": 8,
     "metadata": {},
     "output_type": "execute_result"
    }
   ],
   "source": [
    "len(df[df.target_count>=3])"
   ]
  },
  {
   "cell_type": "code",
   "execution_count": 9,
   "metadata": {
    "collapsed": false
   },
   "outputs": [],
   "source": [
    "df[df.target_count>=3].sort_index().to_csv('405freeway_extract.csv',encoding='utf-8')"
   ]
  },
  {
   "cell_type": "code",
   "execution_count": 44,
   "metadata": {
    "collapsed": false
   },
   "outputs": [],
   "source": [
    "totxt = df[df.target_count>=3].sort_index().apply(lambda row: row['body']+'\\n'+row['url'],axis=1)"
   ]
  },
  {
   "cell_type": "code",
   "execution_count": 45,
   "metadata": {
    "collapsed": false
   },
   "outputs": [],
   "source": [
    "mystring = \"\"\n",
    "for (k,v) in zip(list(totxt.index),list(totxt)):\n",
    "    mystring += '['+str(k)+'] '+v+'\\n==========\\n\\n'"
   ]
  },
  {
   "cell_type": "code",
   "execution_count": 46,
   "metadata": {
    "collapsed": false
   },
   "outputs": [],
   "source": [
    "with open(\"405freeway_extract_FORMATTED.txt\", \"w\") as fil:\n",
    "    fil.write(mystring.encode('utf-8'))"
   ]
  },
  {
   "cell_type": "code",
   "execution_count": null,
   "metadata": {
    "collapsed": true
   },
   "outputs": [],
   "source": []
  }
 ],
 "metadata": {
  "kernelspec": {
   "display_name": "Python 2",
   "language": "python",
   "name": "python2"
  },
  "language_info": {
   "codemirror_mode": {
    "name": "ipython",
    "version": 2
   },
   "file_extension": ".py",
   "mimetype": "text/x-python",
   "name": "python",
   "nbconvert_exporter": "python",
   "pygments_lexer": "ipython2",
   "version": "2.7.13"
  }
 },
 "nbformat": 4,
 "nbformat_minor": 2
}
